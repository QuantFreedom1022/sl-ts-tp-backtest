{
 "cells": [
  {
   "attachments": {},
   "cell_type": "markdown",
   "metadata": {},
   "source": [
    "https://medium.datadriveninvestor.com/stop-loss-trailing-stop-or-take-profit-2-million-backtests-shed-light-dde23bda40be"
   ]
  },
  {
   "cell_type": "code",
   "execution_count": 1,
   "metadata": {},
   "outputs": [],
   "source": [
    "import vectorbt as vbt\n",
    "import numpy as np\n",
    "import pandas as pd\n",
    "import ccxt\n",
    "import itertools\n",
    "import ipywidgets\n",
    "from datetime import datetime, timedelta\n",
    "from numba import njit\n"
   ]
  },
  {
   "cell_type": "code",
   "execution_count": 2,
   "metadata": {},
   "outputs": [],
   "source": [
    "seed = 42\n",
    "symbols = ['ADAUSDT', 'BNBUSDT', 'BTCUSDT', 'EOSUSDT','ETHUSDT', 'LTCUSDT', 'TRXUSDT', 'VETUSDT', 'XLMUSDT', 'XRPUSDT']\n",
    "start_date = datetime(2017, 6, 1)\n",
    "end_date = datetime(2023, 1, 21)\n",
    "time_delta = end_date - start_date\n",
    "window_len = timedelta(days=180)\n",
    "window_count = 400\n",
    "exit_types = ['SL', 'TS', 'TP', 'Random', 'Holding']\n",
    "step = 0.01  # in %\n",
    "stops = np.arange(step, 1 + step, step)\n",
    "\n",
    "vbt.settings.plotting[\"layout\"][\"template\"] = \"vbt_dark\"\n",
    "vbt.settings.portfolio['freq'] = '1d'\n",
    "vbt.settings.portfolio['init_cash'] = 100.  # in $\n",
    "vbt.settings.portfolio['fees'] = 0.0025  # in %\n",
    "vbt.settings.portfolio['slippage'] = 0.0025  # in %\n"
   ]
  },
  {
   "cell_type": "code",
   "execution_count": 3,
   "metadata": {},
   "outputs": [
    {
     "name": "stdout",
     "output_type": "stream",
     "text": [
      "Start date                       2017-06-01 00:00:00\n",
      "End date                         2023-01-21 00:00:00\n",
      "Time period (days)                              2060\n",
      "Assets                                            10\n",
      "Window length                      180 days, 0:00:00\n",
      "Windows                                          400\n",
      "Exit types                                         5\n",
      "Stop values                                      100\n",
      "Tests per asset                               200000\n",
      "Tests per window                                5000\n",
      "Tests per exit type                           400000\n",
      "Tests per stop type and value                   4000\n",
      "Tests total                                  2000000\n",
      "dtype: object\n"
     ]
    }
   ],
   "source": [
    "print(pd.Series({\n",
    "    'Start date': start_date,\n",
    "    'End date': end_date,\n",
    "    'Time period (days)': time_delta.days,\n",
    "    'Assets': len(symbols),\n",
    "    'Window length': window_len,\n",
    "    'Windows': window_count,\n",
    "    'Exit types': len(exit_types),\n",
    "    'Stop values': len(stops),\n",
    "    'Tests per asset': window_count * len(stops) * len(exit_types),\n",
    "    'Tests per window': len(symbols) * len(stops) * len(exit_types),\n",
    "    'Tests per exit type': len(symbols) * window_count * len(stops),\n",
    "    'Tests per stop type and value': len(symbols) * window_count,\n",
    "    'Tests total': len(symbols) * window_count * len(stops) * len(exit_types)\n",
    "}))\n"
   ]
  },
  {
   "cell_type": "code",
   "execution_count": 4,
   "metadata": {},
   "outputs": [
    {
     "data": {
      "application/vnd.jupyter.widget-view+json": {
       "model_id": "2ad7b83d48a24aa5809bc8ce5054462c",
       "version_major": 2,
       "version_minor": 0
      },
      "text/plain": [
       "0it [00:00, ?it/s]"
      ]
     },
     "metadata": {},
     "output_type": "display_data"
    },
    {
     "data": {
      "application/vnd.jupyter.widget-view+json": {
       "model_id": "4dea8ef3ee304f79b40737ce29a75cab",
       "version_major": 2,
       "version_minor": 0
      },
      "text/plain": [
       "0it [00:00, ?it/s]"
      ]
     },
     "metadata": {},
     "output_type": "display_data"
    },
    {
     "data": {
      "application/vnd.jupyter.widget-view+json": {
       "model_id": "328008388d1a4744a31dcd1694aa1c92",
       "version_major": 2,
       "version_minor": 0
      },
      "text/plain": [
       "0it [00:00, ?it/s]"
      ]
     },
     "metadata": {},
     "output_type": "display_data"
    },
    {
     "data": {
      "application/vnd.jupyter.widget-view+json": {
       "model_id": "fee18c1701424f9b813eb7891dc6574b",
       "version_major": 2,
       "version_minor": 0
      },
      "text/plain": [
       "0it [00:00, ?it/s]"
      ]
     },
     "metadata": {},
     "output_type": "display_data"
    },
    {
     "data": {
      "application/vnd.jupyter.widget-view+json": {
       "model_id": "f3172af9ba6e42afb42688f11995d332",
       "version_major": 2,
       "version_minor": 0
      },
      "text/plain": [
       "0it [00:00, ?it/s]"
      ]
     },
     "metadata": {},
     "output_type": "display_data"
    },
    {
     "data": {
      "application/vnd.jupyter.widget-view+json": {
       "model_id": "6707308d3d554159ae535087a14a226f",
       "version_major": 2,
       "version_minor": 0
      },
      "text/plain": [
       "0it [00:00, ?it/s]"
      ]
     },
     "metadata": {},
     "output_type": "display_data"
    },
    {
     "data": {
      "application/vnd.jupyter.widget-view+json": {
       "model_id": "058dd4d382ad46d2802feb6aeffd3469",
       "version_major": 2,
       "version_minor": 0
      },
      "text/plain": [
       "0it [00:00, ?it/s]"
      ]
     },
     "metadata": {},
     "output_type": "display_data"
    },
    {
     "data": {
      "application/vnd.jupyter.widget-view+json": {
       "model_id": "dd8e8a24f81348c7964ee0d8759bd4c9",
       "version_major": 2,
       "version_minor": 0
      },
      "text/plain": [
       "0it [00:00, ?it/s]"
      ]
     },
     "metadata": {},
     "output_type": "display_data"
    },
    {
     "data": {
      "application/vnd.jupyter.widget-view+json": {
       "model_id": "1276bff292d347f29a9864326ac6ebc7",
       "version_major": 2,
       "version_minor": 0
      },
      "text/plain": [
       "0it [00:00, ?it/s]"
      ]
     },
     "metadata": {},
     "output_type": "display_data"
    },
    {
     "data": {
      "application/vnd.jupyter.widget-view+json": {
       "model_id": "f2d0d65bdbb04fbd92c230b41b2c2e78",
       "version_major": 2,
       "version_minor": 0
      },
      "text/plain": [
       "0it [00:00, ?it/s]"
      ]
     },
     "metadata": {},
     "output_type": "display_data"
    }
   ],
   "source": [
    "# cols = ['Open', 'Low', 'High', 'Close', 'Volume']\n",
    "# data = vbt.CCXTData.download(\n",
    "#     symbols,\n",
    "#     start=start_date,\n",
    "#     end=end_date,\n",
    "#     timeframe='1d',\n",
    "#     exchange='binance'\n",
    "#     )\n",
    "# data.save('stop_sigs.pickle')\n",
    "data = vbt.CCXTData.load('stop_sigs.pickle')\n",
    "ohlcv_by_symbol = data.data\n"
   ]
  },
  {
   "cell_type": "code",
   "execution_count": 5,
   "metadata": {},
   "outputs": [
    {
     "name": "stdout",
     "output_type": "stream",
     "text": [
      "dict_keys(['ADAUSDT', 'BNBUSDT', 'BTCUSDT', 'EOSUSDT', 'ETHUSDT', 'LTCUSDT', 'TRXUSDT', 'VETUSDT', 'XLMUSDT', 'XRPUSDT'])\n",
      "(1984, 5)\n"
     ]
    },
    {
     "data": {
      "application/vnd.jupyter.widget-view+json": {
       "model_id": "2c991ba813a64222b8cc698e75dfb28f",
       "version_major": 2,
       "version_minor": 0
      },
      "text/plain": [
       "FigureWidget({\n",
       "    'data': [{'close': array([ 4285.08,  4108.37,  4139.98, ..., 21071.59, 22667.21, 22783.55])…"
      ]
     },
     "metadata": {},
     "output_type": "display_data"
    }
   ],
   "source": [
    "print(ohlcv_by_symbol.keys())\n",
    "print(ohlcv_by_symbol['BTCUSDT'].shape)\n",
    "ohlcv_by_symbol['BTCUSDT'].vbt.ohlcv.plot()\n"
   ]
  },
  {
   "cell_type": "code",
   "execution_count": 6,
   "metadata": {},
   "outputs": [
    {
     "name": "stdout",
     "output_type": "stream",
     "text": [
      "dict_keys(['Open', 'High', 'Low', 'Close', 'Volume'])\n"
     ]
    },
    {
     "data": {
      "text/plain": [
       "(1984, 10)"
      ]
     },
     "execution_count": 6,
     "metadata": {},
     "output_type": "execute_result"
    }
   ],
   "source": [
    "ohlcv = data.concat()\n",
    "print(ohlcv.keys())\n",
    "ohlcv['Open'].shape"
   ]
  },
  {
   "cell_type": "code",
   "execution_count": 7,
   "metadata": {},
   "outputs": [
    {
     "data": {
      "text/html": [
       "<div>\n",
       "<style scoped>\n",
       "    .dataframe tbody tr th:only-of-type {\n",
       "        vertical-align: middle;\n",
       "    }\n",
       "\n",
       "    .dataframe tbody tr th {\n",
       "        vertical-align: top;\n",
       "    }\n",
       "\n",
       "    .dataframe thead th {\n",
       "        text-align: right;\n",
       "    }\n",
       "</style>\n",
       "<table border=\"1\" class=\"dataframe\">\n",
       "  <thead>\n",
       "    <tr style=\"text-align: right;\">\n",
       "      <th>symbol</th>\n",
       "      <th>ADAUSDT</th>\n",
       "      <th>BNBUSDT</th>\n",
       "      <th>BTCUSDT</th>\n",
       "      <th>EOSUSDT</th>\n",
       "      <th>ETHUSDT</th>\n",
       "      <th>LTCUSDT</th>\n",
       "      <th>TRXUSDT</th>\n",
       "      <th>VETUSDT</th>\n",
       "      <th>XLMUSDT</th>\n",
       "      <th>XRPUSDT</th>\n",
       "    </tr>\n",
       "    <tr>\n",
       "      <th>Open time</th>\n",
       "      <th></th>\n",
       "      <th></th>\n",
       "      <th></th>\n",
       "      <th></th>\n",
       "      <th></th>\n",
       "      <th></th>\n",
       "      <th></th>\n",
       "      <th></th>\n",
       "      <th></th>\n",
       "      <th></th>\n",
       "    </tr>\n",
       "  </thead>\n",
       "  <tbody>\n",
       "    <tr>\n",
       "      <th>2017-08-17 00:00:00+00:00</th>\n",
       "      <td>NaN</td>\n",
       "      <td>NaN</td>\n",
       "      <td>4261.48</td>\n",
       "      <td>NaN</td>\n",
       "      <td>301.13</td>\n",
       "      <td>NaN</td>\n",
       "      <td>NaN</td>\n",
       "      <td>NaN</td>\n",
       "      <td>NaN</td>\n",
       "      <td>NaN</td>\n",
       "    </tr>\n",
       "    <tr>\n",
       "      <th>2017-08-18 00:00:00+00:00</th>\n",
       "      <td>NaN</td>\n",
       "      <td>NaN</td>\n",
       "      <td>4285.08</td>\n",
       "      <td>NaN</td>\n",
       "      <td>302.00</td>\n",
       "      <td>NaN</td>\n",
       "      <td>NaN</td>\n",
       "      <td>NaN</td>\n",
       "      <td>NaN</td>\n",
       "      <td>NaN</td>\n",
       "    </tr>\n",
       "    <tr>\n",
       "      <th>2017-08-19 00:00:00+00:00</th>\n",
       "      <td>NaN</td>\n",
       "      <td>NaN</td>\n",
       "      <td>4108.37</td>\n",
       "      <td>NaN</td>\n",
       "      <td>293.31</td>\n",
       "      <td>NaN</td>\n",
       "      <td>NaN</td>\n",
       "      <td>NaN</td>\n",
       "      <td>NaN</td>\n",
       "      <td>NaN</td>\n",
       "    </tr>\n",
       "    <tr>\n",
       "      <th>2017-08-20 00:00:00+00:00</th>\n",
       "      <td>NaN</td>\n",
       "      <td>NaN</td>\n",
       "      <td>4120.98</td>\n",
       "      <td>NaN</td>\n",
       "      <td>289.41</td>\n",
       "      <td>NaN</td>\n",
       "      <td>NaN</td>\n",
       "      <td>NaN</td>\n",
       "      <td>NaN</td>\n",
       "      <td>NaN</td>\n",
       "    </tr>\n",
       "    <tr>\n",
       "      <th>2017-08-21 00:00:00+00:00</th>\n",
       "      <td>NaN</td>\n",
       "      <td>NaN</td>\n",
       "      <td>4069.13</td>\n",
       "      <td>NaN</td>\n",
       "      <td>299.10</td>\n",
       "      <td>NaN</td>\n",
       "      <td>NaN</td>\n",
       "      <td>NaN</td>\n",
       "      <td>NaN</td>\n",
       "      <td>NaN</td>\n",
       "    </tr>\n",
       "    <tr>\n",
       "      <th>...</th>\n",
       "      <td>...</td>\n",
       "      <td>...</td>\n",
       "      <td>...</td>\n",
       "      <td>...</td>\n",
       "      <td>...</td>\n",
       "      <td>...</td>\n",
       "      <td>...</td>\n",
       "      <td>...</td>\n",
       "      <td>...</td>\n",
       "      <td>...</td>\n",
       "    </tr>\n",
       "    <tr>\n",
       "      <th>2018-07-23 00:00:00+00:00</th>\n",
       "      <td>0.16937</td>\n",
       "      <td>12.1594</td>\n",
       "      <td>7394.78</td>\n",
       "      <td>7.8461</td>\n",
       "      <td>457.47</td>\n",
       "      <td>82.20</td>\n",
       "      <td>0.03507</td>\n",
       "      <td>NaN</td>\n",
       "      <td>0.28345</td>\n",
       "      <td>0.44859</td>\n",
       "    </tr>\n",
       "    <tr>\n",
       "      <th>2018-07-24 00:00:00+00:00</th>\n",
       "      <td>0.16411</td>\n",
       "      <td>12.0348</td>\n",
       "      <td>7721.65</td>\n",
       "      <td>7.9336</td>\n",
       "      <td>450.05</td>\n",
       "      <td>81.43</td>\n",
       "      <td>0.03413</td>\n",
       "      <td>NaN</td>\n",
       "      <td>0.28600</td>\n",
       "      <td>0.44520</td>\n",
       "    </tr>\n",
       "    <tr>\n",
       "      <th>2018-07-25 00:00:00+00:00</th>\n",
       "      <td>0.17360</td>\n",
       "      <td>12.1469</td>\n",
       "      <td>8397.24</td>\n",
       "      <td>8.5809</td>\n",
       "      <td>479.24</td>\n",
       "      <td>89.02</td>\n",
       "      <td>0.03796</td>\n",
       "      <td>0.02250</td>\n",
       "      <td>0.30019</td>\n",
       "      <td>0.45741</td>\n",
       "    </tr>\n",
       "    <tr>\n",
       "      <th>2018-07-26 00:00:00+00:00</th>\n",
       "      <td>0.17274</td>\n",
       "      <td>13.0448</td>\n",
       "      <td>8175.63</td>\n",
       "      <td>8.5307</td>\n",
       "      <td>472.11</td>\n",
       "      <td>86.38</td>\n",
       "      <td>0.03717</td>\n",
       "      <td>0.02117</td>\n",
       "      <td>0.33400</td>\n",
       "      <td>0.45983</td>\n",
       "    </tr>\n",
       "    <tr>\n",
       "      <th>2018-07-27 00:00:00+00:00</th>\n",
       "      <td>0.16397</td>\n",
       "      <td>13.3435</td>\n",
       "      <td>7920.00</td>\n",
       "      <td>8.2980</td>\n",
       "      <td>462.17</td>\n",
       "      <td>83.51</td>\n",
       "      <td>0.03586</td>\n",
       "      <td>0.02503</td>\n",
       "      <td>0.30810</td>\n",
       "      <td>0.44878</td>\n",
       "    </tr>\n",
       "  </tbody>\n",
       "</table>\n",
       "<p>345 rows × 10 columns</p>\n",
       "</div>"
      ],
      "text/plain": [
       "symbol                     ADAUSDT  BNBUSDT  BTCUSDT  EOSUSDT  ETHUSDT  \\\n",
       "Open time                                                                \n",
       "2017-08-17 00:00:00+00:00      NaN      NaN  4261.48      NaN   301.13   \n",
       "2017-08-18 00:00:00+00:00      NaN      NaN  4285.08      NaN   302.00   \n",
       "2017-08-19 00:00:00+00:00      NaN      NaN  4108.37      NaN   293.31   \n",
       "2017-08-20 00:00:00+00:00      NaN      NaN  4120.98      NaN   289.41   \n",
       "2017-08-21 00:00:00+00:00      NaN      NaN  4069.13      NaN   299.10   \n",
       "...                            ...      ...      ...      ...      ...   \n",
       "2018-07-23 00:00:00+00:00  0.16937  12.1594  7394.78   7.8461   457.47   \n",
       "2018-07-24 00:00:00+00:00  0.16411  12.0348  7721.65   7.9336   450.05   \n",
       "2018-07-25 00:00:00+00:00  0.17360  12.1469  8397.24   8.5809   479.24   \n",
       "2018-07-26 00:00:00+00:00  0.17274  13.0448  8175.63   8.5307   472.11   \n",
       "2018-07-27 00:00:00+00:00  0.16397  13.3435  7920.00   8.2980   462.17   \n",
       "\n",
       "symbol                     LTCUSDT  TRXUSDT  VETUSDT  XLMUSDT  XRPUSDT  \n",
       "Open time                                                               \n",
       "2017-08-17 00:00:00+00:00      NaN      NaN      NaN      NaN      NaN  \n",
       "2017-08-18 00:00:00+00:00      NaN      NaN      NaN      NaN      NaN  \n",
       "2017-08-19 00:00:00+00:00      NaN      NaN      NaN      NaN      NaN  \n",
       "2017-08-20 00:00:00+00:00      NaN      NaN      NaN      NaN      NaN  \n",
       "2017-08-21 00:00:00+00:00      NaN      NaN      NaN      NaN      NaN  \n",
       "...                            ...      ...      ...      ...      ...  \n",
       "2018-07-23 00:00:00+00:00    82.20  0.03507      NaN  0.28345  0.44859  \n",
       "2018-07-24 00:00:00+00:00    81.43  0.03413      NaN  0.28600  0.44520  \n",
       "2018-07-25 00:00:00+00:00    89.02  0.03796  0.02250  0.30019  0.45741  \n",
       "2018-07-26 00:00:00+00:00    86.38  0.03717  0.02117  0.33400  0.45983  \n",
       "2018-07-27 00:00:00+00:00    83.51  0.03586  0.02503  0.30810  0.44878  \n",
       "\n",
       "[345 rows x 10 columns]"
      ]
     },
     "execution_count": 7,
     "metadata": {},
     "output_type": "execute_result"
    }
   ],
   "source": [
    "ohlcv['Open'].head(345)"
   ]
  },
  {
   "cell_type": "code",
   "execution_count": 8,
   "metadata": {},
   "outputs": [
    {
     "data": {
      "text/html": [
       "<div>\n",
       "<style scoped>\n",
       "    .dataframe tbody tr th:only-of-type {\n",
       "        vertical-align: middle;\n",
       "    }\n",
       "\n",
       "    .dataframe tbody tr th {\n",
       "        vertical-align: top;\n",
       "    }\n",
       "\n",
       "    .dataframe thead tr th {\n",
       "        text-align: left;\n",
       "    }\n",
       "</style>\n",
       "<table border=\"1\" class=\"dataframe\">\n",
       "  <thead>\n",
       "    <tr>\n",
       "      <th>split_idx</th>\n",
       "      <th colspan=\"10\" halign=\"left\">0</th>\n",
       "      <th>...</th>\n",
       "      <th colspan=\"10\" halign=\"left\">399</th>\n",
       "    </tr>\n",
       "    <tr>\n",
       "      <th>symbol</th>\n",
       "      <th>ADAUSDT</th>\n",
       "      <th>BNBUSDT</th>\n",
       "      <th>BTCUSDT</th>\n",
       "      <th>EOSUSDT</th>\n",
       "      <th>ETHUSDT</th>\n",
       "      <th>LTCUSDT</th>\n",
       "      <th>TRXUSDT</th>\n",
       "      <th>VETUSDT</th>\n",
       "      <th>XLMUSDT</th>\n",
       "      <th>XRPUSDT</th>\n",
       "      <th>...</th>\n",
       "      <th>ADAUSDT</th>\n",
       "      <th>BNBUSDT</th>\n",
       "      <th>BTCUSDT</th>\n",
       "      <th>EOSUSDT</th>\n",
       "      <th>ETHUSDT</th>\n",
       "      <th>LTCUSDT</th>\n",
       "      <th>TRXUSDT</th>\n",
       "      <th>VETUSDT</th>\n",
       "      <th>XLMUSDT</th>\n",
       "      <th>XRPUSDT</th>\n",
       "    </tr>\n",
       "  </thead>\n",
       "  <tbody>\n",
       "    <tr>\n",
       "      <th>0</th>\n",
       "      <td>0.17360</td>\n",
       "      <td>12.1469</td>\n",
       "      <td>8397.24</td>\n",
       "      <td>8.5809</td>\n",
       "      <td>479.24</td>\n",
       "      <td>89.02</td>\n",
       "      <td>0.03796</td>\n",
       "      <td>0.022500</td>\n",
       "      <td>0.30019</td>\n",
       "      <td>0.45741</td>\n",
       "      <td>...</td>\n",
       "      <td>0.4752</td>\n",
       "      <td>244.7</td>\n",
       "      <td>21310.90</td>\n",
       "      <td>1.108</td>\n",
       "      <td>1440.79</td>\n",
       "      <td>54.00</td>\n",
       "      <td>0.06370</td>\n",
       "      <td>0.02333</td>\n",
       "      <td>0.1057</td>\n",
       "      <td>0.3362</td>\n",
       "    </tr>\n",
       "    <tr>\n",
       "      <th>1</th>\n",
       "      <td>0.17274</td>\n",
       "      <td>13.0448</td>\n",
       "      <td>8175.63</td>\n",
       "      <td>8.5307</td>\n",
       "      <td>472.11</td>\n",
       "      <td>86.38</td>\n",
       "      <td>0.03717</td>\n",
       "      <td>0.021170</td>\n",
       "      <td>0.33400</td>\n",
       "      <td>0.45983</td>\n",
       "      <td>...</td>\n",
       "      <td>0.4678</td>\n",
       "      <td>249.5</td>\n",
       "      <td>21254.67</td>\n",
       "      <td>1.111</td>\n",
       "      <td>1449.12</td>\n",
       "      <td>53.89</td>\n",
       "      <td>0.06537</td>\n",
       "      <td>0.02332</td>\n",
       "      <td>0.1057</td>\n",
       "      <td>0.3373</td>\n",
       "    </tr>\n",
       "    <tr>\n",
       "      <th>2</th>\n",
       "      <td>0.16397</td>\n",
       "      <td>13.3435</td>\n",
       "      <td>7920.00</td>\n",
       "      <td>8.2980</td>\n",
       "      <td>462.17</td>\n",
       "      <td>83.51</td>\n",
       "      <td>0.03586</td>\n",
       "      <td>0.025030</td>\n",
       "      <td>0.30810</td>\n",
       "      <td>0.44878</td>\n",
       "      <td>...</td>\n",
       "      <td>0.5112</td>\n",
       "      <td>271.6</td>\n",
       "      <td>22954.31</td>\n",
       "      <td>1.255</td>\n",
       "      <td>1635.74</td>\n",
       "      <td>59.00</td>\n",
       "      <td>0.06866</td>\n",
       "      <td>0.02519</td>\n",
       "      <td>0.1126</td>\n",
       "      <td>0.3594</td>\n",
       "    </tr>\n",
       "    <tr>\n",
       "      <th>3</th>\n",
       "      <td>0.16586</td>\n",
       "      <td>13.9902</td>\n",
       "      <td>8188.57</td>\n",
       "      <td>8.4296</td>\n",
       "      <td>470.09</td>\n",
       "      <td>84.39</td>\n",
       "      <td>0.03656</td>\n",
       "      <td>0.025020</td>\n",
       "      <td>0.31890</td>\n",
       "      <td>0.45550</td>\n",
       "      <td>...</td>\n",
       "      <td>0.5131</td>\n",
       "      <td>277.2</td>\n",
       "      <td>23845.25</td>\n",
       "      <td>1.313</td>\n",
       "      <td>1724.52</td>\n",
       "      <td>63.40</td>\n",
       "      <td>0.06968</td>\n",
       "      <td>0.02635</td>\n",
       "      <td>0.1167</td>\n",
       "      <td>0.3738</td>\n",
       "    </tr>\n",
       "    <tr>\n",
       "      <th>4</th>\n",
       "      <td>0.16387</td>\n",
       "      <td>14.6415</td>\n",
       "      <td>8225.04</td>\n",
       "      <td>8.3501</td>\n",
       "      <td>468.44</td>\n",
       "      <td>84.10</td>\n",
       "      <td>0.03693</td>\n",
       "      <td>0.025730</td>\n",
       "      <td>0.31507</td>\n",
       "      <td>0.45643</td>\n",
       "      <td>...</td>\n",
       "      <td>0.5219</td>\n",
       "      <td>293.6</td>\n",
       "      <td>23777.28</td>\n",
       "      <td>1.300</td>\n",
       "      <td>1721.68</td>\n",
       "      <td>60.65</td>\n",
       "      <td>0.06924</td>\n",
       "      <td>0.02668</td>\n",
       "      <td>0.1178</td>\n",
       "      <td>0.3679</td>\n",
       "    </tr>\n",
       "    <tr>\n",
       "      <th>...</th>\n",
       "      <td>...</td>\n",
       "      <td>...</td>\n",
       "      <td>...</td>\n",
       "      <td>...</td>\n",
       "      <td>...</td>\n",
       "      <td>...</td>\n",
       "      <td>...</td>\n",
       "      <td>...</td>\n",
       "      <td>...</td>\n",
       "      <td>...</td>\n",
       "      <td>...</td>\n",
       "      <td>...</td>\n",
       "      <td>...</td>\n",
       "      <td>...</td>\n",
       "      <td>...</td>\n",
       "      <td>...</td>\n",
       "      <td>...</td>\n",
       "      <td>...</td>\n",
       "      <td>...</td>\n",
       "      <td>...</td>\n",
       "      <td>...</td>\n",
       "    </tr>\n",
       "    <tr>\n",
       "      <th>175</th>\n",
       "      <td>0.04199</td>\n",
       "      <td>5.8007</td>\n",
       "      <td>3553.06</td>\n",
       "      <td>2.3475</td>\n",
       "      <td>118.93</td>\n",
       "      <td>30.74</td>\n",
       "      <td>0.02396</td>\n",
       "      <td>0.003849</td>\n",
       "      <td>0.10383</td>\n",
       "      <td>0.32154</td>\n",
       "      <td>...</td>\n",
       "      <td>0.3505</td>\n",
       "      <td>299.0</td>\n",
       "      <td>21185.65</td>\n",
       "      <td>1.036</td>\n",
       "      <td>1576.94</td>\n",
       "      <td>85.94</td>\n",
       "      <td>0.06241</td>\n",
       "      <td>0.02134</td>\n",
       "      <td>0.0878</td>\n",
       "      <td>0.3855</td>\n",
       "    </tr>\n",
       "    <tr>\n",
       "      <th>176</th>\n",
       "      <td>0.04420</td>\n",
       "      <td>6.0941</td>\n",
       "      <td>3591.84</td>\n",
       "      <td>2.4035</td>\n",
       "      <td>121.49</td>\n",
       "      <td>31.29</td>\n",
       "      <td>0.02482</td>\n",
       "      <td>0.003938</td>\n",
       "      <td>0.10555</td>\n",
       "      <td>0.32580</td>\n",
       "      <td>...</td>\n",
       "      <td>0.3455</td>\n",
       "      <td>299.4</td>\n",
       "      <td>21132.29</td>\n",
       "      <td>1.022</td>\n",
       "      <td>1565.56</td>\n",
       "      <td>87.04</td>\n",
       "      <td>0.06167</td>\n",
       "      <td>0.02127</td>\n",
       "      <td>0.0862</td>\n",
       "      <td>0.3868</td>\n",
       "    </tr>\n",
       "    <tr>\n",
       "      <th>177</th>\n",
       "      <td>0.04470</td>\n",
       "      <td>6.3152</td>\n",
       "      <td>3613.32</td>\n",
       "      <td>2.4729</td>\n",
       "      <td>121.56</td>\n",
       "      <td>31.38</td>\n",
       "      <td>0.02491</td>\n",
       "      <td>0.004185</td>\n",
       "      <td>0.10713</td>\n",
       "      <td>0.32468</td>\n",
       "      <td>...</td>\n",
       "      <td>0.3264</td>\n",
       "      <td>286.7</td>\n",
       "      <td>20677.47</td>\n",
       "      <td>0.958</td>\n",
       "      <td>1511.44</td>\n",
       "      <td>82.62</td>\n",
       "      <td>0.05890</td>\n",
       "      <td>0.01970</td>\n",
       "      <td>0.0824</td>\n",
       "      <td>0.3782</td>\n",
       "    </tr>\n",
       "    <tr>\n",
       "      <th>178</th>\n",
       "      <td>0.04373</td>\n",
       "      <td>6.4887</td>\n",
       "      <td>3594.87</td>\n",
       "      <td>2.4296</td>\n",
       "      <td>119.16</td>\n",
       "      <td>30.78</td>\n",
       "      <td>0.02440</td>\n",
       "      <td>0.004014</td>\n",
       "      <td>0.10561</td>\n",
       "      <td>0.32042</td>\n",
       "      <td>...</td>\n",
       "      <td>0.3380</td>\n",
       "      <td>294.6</td>\n",
       "      <td>21071.59</td>\n",
       "      <td>0.981</td>\n",
       "      <td>1551.09</td>\n",
       "      <td>84.21</td>\n",
       "      <td>0.06009</td>\n",
       "      <td>0.02031</td>\n",
       "      <td>0.0844</td>\n",
       "      <td>0.3929</td>\n",
       "    </tr>\n",
       "    <tr>\n",
       "      <th>179</th>\n",
       "      <td>0.04515</td>\n",
       "      <td>6.5221</td>\n",
       "      <td>3665.75</td>\n",
       "      <td>2.4432</td>\n",
       "      <td>122.61</td>\n",
       "      <td>31.94</td>\n",
       "      <td>0.02418</td>\n",
       "      <td>0.004069</td>\n",
       "      <td>0.10655</td>\n",
       "      <td>0.32672</td>\n",
       "      <td>...</td>\n",
       "      <td>0.3651</td>\n",
       "      <td>305.1</td>\n",
       "      <td>22666.00</td>\n",
       "      <td>1.046</td>\n",
       "      <td>1658.53</td>\n",
       "      <td>90.28</td>\n",
       "      <td>0.06273</td>\n",
       "      <td>0.02237</td>\n",
       "      <td>0.0889</td>\n",
       "      <td>0.4129</td>\n",
       "    </tr>\n",
       "  </tbody>\n",
       "</table>\n",
       "<p>180 rows × 4000 columns</p>\n",
       "</div>"
      ],
      "text/plain": [
       "split_idx      0                                                       \\\n",
       "symbol     ADAUSDT  BNBUSDT  BTCUSDT EOSUSDT ETHUSDT LTCUSDT  TRXUSDT   \n",
       "0          0.17360  12.1469  8397.24  8.5809  479.24   89.02  0.03796   \n",
       "1          0.17274  13.0448  8175.63  8.5307  472.11   86.38  0.03717   \n",
       "2          0.16397  13.3435  7920.00  8.2980  462.17   83.51  0.03586   \n",
       "3          0.16586  13.9902  8188.57  8.4296  470.09   84.39  0.03656   \n",
       "4          0.16387  14.6415  8225.04  8.3501  468.44   84.10  0.03693   \n",
       "..             ...      ...      ...     ...     ...     ...      ...   \n",
       "175        0.04199   5.8007  3553.06  2.3475  118.93   30.74  0.02396   \n",
       "176        0.04420   6.0941  3591.84  2.4035  121.49   31.29  0.02482   \n",
       "177        0.04470   6.3152  3613.32  2.4729  121.56   31.38  0.02491   \n",
       "178        0.04373   6.4887  3594.87  2.4296  119.16   30.78  0.02440   \n",
       "179        0.04515   6.5221  3665.75  2.4432  122.61   31.94  0.02418   \n",
       "\n",
       "split_idx                              ...     399                            \\\n",
       "symbol      VETUSDT  XLMUSDT  XRPUSDT  ... ADAUSDT BNBUSDT   BTCUSDT EOSUSDT   \n",
       "0          0.022500  0.30019  0.45741  ...  0.4752   244.7  21310.90   1.108   \n",
       "1          0.021170  0.33400  0.45983  ...  0.4678   249.5  21254.67   1.111   \n",
       "2          0.025030  0.30810  0.44878  ...  0.5112   271.6  22954.31   1.255   \n",
       "3          0.025020  0.31890  0.45550  ...  0.5131   277.2  23845.25   1.313   \n",
       "4          0.025730  0.31507  0.45643  ...  0.5219   293.6  23777.28   1.300   \n",
       "..              ...      ...      ...  ...     ...     ...       ...     ...   \n",
       "175        0.003849  0.10383  0.32154  ...  0.3505   299.0  21185.65   1.036   \n",
       "176        0.003938  0.10555  0.32580  ...  0.3455   299.4  21132.29   1.022   \n",
       "177        0.004185  0.10713  0.32468  ...  0.3264   286.7  20677.47   0.958   \n",
       "178        0.004014  0.10561  0.32042  ...  0.3380   294.6  21071.59   0.981   \n",
       "179        0.004069  0.10655  0.32672  ...  0.3651   305.1  22666.00   1.046   \n",
       "\n",
       "split_idx                                                     \n",
       "symbol     ETHUSDT LTCUSDT  TRXUSDT  VETUSDT XLMUSDT XRPUSDT  \n",
       "0          1440.79   54.00  0.06370  0.02333  0.1057  0.3362  \n",
       "1          1449.12   53.89  0.06537  0.02332  0.1057  0.3373  \n",
       "2          1635.74   59.00  0.06866  0.02519  0.1126  0.3594  \n",
       "3          1724.52   63.40  0.06968  0.02635  0.1167  0.3738  \n",
       "4          1721.68   60.65  0.06924  0.02668  0.1178  0.3679  \n",
       "..             ...     ...      ...      ...     ...     ...  \n",
       "175        1576.94   85.94  0.06241  0.02134  0.0878  0.3855  \n",
       "176        1565.56   87.04  0.06167  0.02127  0.0862  0.3868  \n",
       "177        1511.44   82.62  0.05890  0.01970  0.0824  0.3782  \n",
       "178        1551.09   84.21  0.06009  0.02031  0.0844  0.3929  \n",
       "179        1658.53   90.28  0.06273  0.02237  0.0889  0.4129  \n",
       "\n",
       "[180 rows x 4000 columns]"
      ]
     },
     "execution_count": 8,
     "metadata": {},
     "output_type": "execute_result"
    }
   ],
   "source": [
    "ohlcv_data = {}\n",
    "for k, v in ohlcv.items():\n",
    "    v.dropna(inplace=True)\n",
    "    ohlcv_data[k] = v.vbt.range_split(\n",
    "        range_len=window_len.days, n=window_count)[0]\n",
    "ohlcv_data['Open']\n"
   ]
  },
  {
   "cell_type": "code",
   "execution_count": 9,
   "metadata": {},
   "outputs": [
    {
     "data": {
      "text/plain": [
       "0      DatetimeIndex(['2018-07-25 00:00:00+00:00', '2...\n",
       "1      DatetimeIndex(['2018-07-29 00:00:00+00:00', '2...\n",
       "2      DatetimeIndex(['2018-08-01 00:00:00+00:00', '2...\n",
       "3      DatetimeIndex(['2018-08-05 00:00:00+00:00', '2...\n",
       "4      DatetimeIndex(['2018-08-09 00:00:00+00:00', '2...\n",
       "                             ...                        \n",
       "395    DatetimeIndex(['2022-07-11 00:00:00+00:00', '2...\n",
       "396    DatetimeIndex(['2022-07-15 00:00:00+00:00', '2...\n",
       "397    DatetimeIndex(['2022-07-19 00:00:00+00:00', '2...\n",
       "398    DatetimeIndex(['2022-07-22 00:00:00+00:00', '2...\n",
       "399    DatetimeIndex(['2022-07-26 00:00:00+00:00', '2...\n",
       "Length: 400, dtype: object"
      ]
     },
     "execution_count": 9,
     "metadata": {},
     "output_type": "execute_result"
    }
   ],
   "source": [
    "ohlcv_indexs = pd.Series(ohlcv['Open'].vbt.range_split(\n",
    "    range_len=window_len.days, n=window_count)[1])\n",
    "ohlcv_indexs\n"
   ]
  },
  {
   "cell_type": "code",
   "execution_count": 10,
   "metadata": {},
   "outputs": [
    {
     "name": "stdout",
     "output_type": "stream",
     "text": [
      "MultiIndex([(  0, 'ADAUSDT'),\n",
      "            (  0, 'BNBUSDT'),\n",
      "            (  0, 'BTCUSDT'),\n",
      "            (  0, 'EOSUSDT'),\n",
      "            (  0, 'ETHUSDT'),\n",
      "            (  0, 'LTCUSDT'),\n",
      "            (  0, 'TRXUSDT'),\n",
      "            (  0, 'VETUSDT'),\n",
      "            (  0, 'XLMUSDT'),\n",
      "            (  0, 'XRPUSDT'),\n",
      "            ...\n",
      "            (399, 'ADAUSDT'),\n",
      "            (399, 'BNBUSDT'),\n",
      "            (399, 'BTCUSDT'),\n",
      "            (399, 'EOSUSDT'),\n",
      "            (399, 'ETHUSDT'),\n",
      "            (399, 'LTCUSDT'),\n",
      "            (399, 'TRXUSDT'),\n",
      "            (399, 'VETUSDT'),\n",
      "            (399, 'XLMUSDT'),\n",
      "            (399, 'XRPUSDT')],\n",
      "           names=['split_idx', 'symbol'], length=4000)\n"
     ]
    }
   ],
   "source": [
    "print(ohlcv_data['Open'].columns)\n"
   ]
  },
  {
   "cell_type": "code",
   "execution_count": 11,
   "metadata": {},
   "outputs": [
    {
     "data": {
      "text/html": [
       "<div>\n",
       "<style scoped>\n",
       "    .dataframe tbody tr th:only-of-type {\n",
       "        vertical-align: middle;\n",
       "    }\n",
       "\n",
       "    .dataframe tbody tr th {\n",
       "        vertical-align: top;\n",
       "    }\n",
       "\n",
       "    .dataframe thead tr th {\n",
       "        text-align: left;\n",
       "    }\n",
       "</style>\n",
       "<table border=\"1\" class=\"dataframe\">\n",
       "  <thead>\n",
       "    <tr>\n",
       "      <th>split_idx</th>\n",
       "      <th colspan=\"10\" halign=\"left\">0</th>\n",
       "      <th>...</th>\n",
       "      <th colspan=\"10\" halign=\"left\">399</th>\n",
       "    </tr>\n",
       "    <tr>\n",
       "      <th>symbol</th>\n",
       "      <th>ADAUSDT</th>\n",
       "      <th>BNBUSDT</th>\n",
       "      <th>BTCUSDT</th>\n",
       "      <th>EOSUSDT</th>\n",
       "      <th>ETHUSDT</th>\n",
       "      <th>LTCUSDT</th>\n",
       "      <th>TRXUSDT</th>\n",
       "      <th>VETUSDT</th>\n",
       "      <th>XLMUSDT</th>\n",
       "      <th>XRPUSDT</th>\n",
       "      <th>...</th>\n",
       "      <th>ADAUSDT</th>\n",
       "      <th>BNBUSDT</th>\n",
       "      <th>BTCUSDT</th>\n",
       "      <th>EOSUSDT</th>\n",
       "      <th>ETHUSDT</th>\n",
       "      <th>LTCUSDT</th>\n",
       "      <th>TRXUSDT</th>\n",
       "      <th>VETUSDT</th>\n",
       "      <th>XLMUSDT</th>\n",
       "      <th>XRPUSDT</th>\n",
       "    </tr>\n",
       "  </thead>\n",
       "  <tbody>\n",
       "    <tr>\n",
       "      <th>0</th>\n",
       "      <td>True</td>\n",
       "      <td>True</td>\n",
       "      <td>True</td>\n",
       "      <td>True</td>\n",
       "      <td>True</td>\n",
       "      <td>True</td>\n",
       "      <td>True</td>\n",
       "      <td>True</td>\n",
       "      <td>True</td>\n",
       "      <td>True</td>\n",
       "      <td>...</td>\n",
       "      <td>True</td>\n",
       "      <td>True</td>\n",
       "      <td>True</td>\n",
       "      <td>True</td>\n",
       "      <td>True</td>\n",
       "      <td>True</td>\n",
       "      <td>True</td>\n",
       "      <td>True</td>\n",
       "      <td>True</td>\n",
       "      <td>True</td>\n",
       "    </tr>\n",
       "    <tr>\n",
       "      <th>1</th>\n",
       "      <td>False</td>\n",
       "      <td>False</td>\n",
       "      <td>False</td>\n",
       "      <td>False</td>\n",
       "      <td>False</td>\n",
       "      <td>False</td>\n",
       "      <td>False</td>\n",
       "      <td>False</td>\n",
       "      <td>False</td>\n",
       "      <td>False</td>\n",
       "      <td>...</td>\n",
       "      <td>False</td>\n",
       "      <td>False</td>\n",
       "      <td>False</td>\n",
       "      <td>False</td>\n",
       "      <td>False</td>\n",
       "      <td>False</td>\n",
       "      <td>False</td>\n",
       "      <td>False</td>\n",
       "      <td>False</td>\n",
       "      <td>False</td>\n",
       "    </tr>\n",
       "    <tr>\n",
       "      <th>2</th>\n",
       "      <td>False</td>\n",
       "      <td>False</td>\n",
       "      <td>False</td>\n",
       "      <td>False</td>\n",
       "      <td>False</td>\n",
       "      <td>False</td>\n",
       "      <td>False</td>\n",
       "      <td>False</td>\n",
       "      <td>False</td>\n",
       "      <td>False</td>\n",
       "      <td>...</td>\n",
       "      <td>False</td>\n",
       "      <td>False</td>\n",
       "      <td>False</td>\n",
       "      <td>False</td>\n",
       "      <td>False</td>\n",
       "      <td>False</td>\n",
       "      <td>False</td>\n",
       "      <td>False</td>\n",
       "      <td>False</td>\n",
       "      <td>False</td>\n",
       "    </tr>\n",
       "    <tr>\n",
       "      <th>3</th>\n",
       "      <td>False</td>\n",
       "      <td>False</td>\n",
       "      <td>False</td>\n",
       "      <td>False</td>\n",
       "      <td>False</td>\n",
       "      <td>False</td>\n",
       "      <td>False</td>\n",
       "      <td>False</td>\n",
       "      <td>False</td>\n",
       "      <td>False</td>\n",
       "      <td>...</td>\n",
       "      <td>False</td>\n",
       "      <td>False</td>\n",
       "      <td>False</td>\n",
       "      <td>False</td>\n",
       "      <td>False</td>\n",
       "      <td>False</td>\n",
       "      <td>False</td>\n",
       "      <td>False</td>\n",
       "      <td>False</td>\n",
       "      <td>False</td>\n",
       "    </tr>\n",
       "    <tr>\n",
       "      <th>4</th>\n",
       "      <td>False</td>\n",
       "      <td>False</td>\n",
       "      <td>False</td>\n",
       "      <td>False</td>\n",
       "      <td>False</td>\n",
       "      <td>False</td>\n",
       "      <td>False</td>\n",
       "      <td>False</td>\n",
       "      <td>False</td>\n",
       "      <td>False</td>\n",
       "      <td>...</td>\n",
       "      <td>False</td>\n",
       "      <td>False</td>\n",
       "      <td>False</td>\n",
       "      <td>False</td>\n",
       "      <td>False</td>\n",
       "      <td>False</td>\n",
       "      <td>False</td>\n",
       "      <td>False</td>\n",
       "      <td>False</td>\n",
       "      <td>False</td>\n",
       "    </tr>\n",
       "    <tr>\n",
       "      <th>...</th>\n",
       "      <td>...</td>\n",
       "      <td>...</td>\n",
       "      <td>...</td>\n",
       "      <td>...</td>\n",
       "      <td>...</td>\n",
       "      <td>...</td>\n",
       "      <td>...</td>\n",
       "      <td>...</td>\n",
       "      <td>...</td>\n",
       "      <td>...</td>\n",
       "      <td>...</td>\n",
       "      <td>...</td>\n",
       "      <td>...</td>\n",
       "      <td>...</td>\n",
       "      <td>...</td>\n",
       "      <td>...</td>\n",
       "      <td>...</td>\n",
       "      <td>...</td>\n",
       "      <td>...</td>\n",
       "      <td>...</td>\n",
       "      <td>...</td>\n",
       "    </tr>\n",
       "    <tr>\n",
       "      <th>175</th>\n",
       "      <td>False</td>\n",
       "      <td>False</td>\n",
       "      <td>False</td>\n",
       "      <td>False</td>\n",
       "      <td>False</td>\n",
       "      <td>False</td>\n",
       "      <td>False</td>\n",
       "      <td>False</td>\n",
       "      <td>False</td>\n",
       "      <td>False</td>\n",
       "      <td>...</td>\n",
       "      <td>False</td>\n",
       "      <td>False</td>\n",
       "      <td>False</td>\n",
       "      <td>False</td>\n",
       "      <td>False</td>\n",
       "      <td>False</td>\n",
       "      <td>False</td>\n",
       "      <td>False</td>\n",
       "      <td>False</td>\n",
       "      <td>False</td>\n",
       "    </tr>\n",
       "    <tr>\n",
       "      <th>176</th>\n",
       "      <td>False</td>\n",
       "      <td>False</td>\n",
       "      <td>False</td>\n",
       "      <td>False</td>\n",
       "      <td>False</td>\n",
       "      <td>False</td>\n",
       "      <td>False</td>\n",
       "      <td>False</td>\n",
       "      <td>False</td>\n",
       "      <td>False</td>\n",
       "      <td>...</td>\n",
       "      <td>False</td>\n",
       "      <td>False</td>\n",
       "      <td>False</td>\n",
       "      <td>False</td>\n",
       "      <td>False</td>\n",
       "      <td>False</td>\n",
       "      <td>False</td>\n",
       "      <td>False</td>\n",
       "      <td>False</td>\n",
       "      <td>False</td>\n",
       "    </tr>\n",
       "    <tr>\n",
       "      <th>177</th>\n",
       "      <td>False</td>\n",
       "      <td>False</td>\n",
       "      <td>False</td>\n",
       "      <td>False</td>\n",
       "      <td>False</td>\n",
       "      <td>False</td>\n",
       "      <td>False</td>\n",
       "      <td>False</td>\n",
       "      <td>False</td>\n",
       "      <td>False</td>\n",
       "      <td>...</td>\n",
       "      <td>False</td>\n",
       "      <td>False</td>\n",
       "      <td>False</td>\n",
       "      <td>False</td>\n",
       "      <td>False</td>\n",
       "      <td>False</td>\n",
       "      <td>False</td>\n",
       "      <td>False</td>\n",
       "      <td>False</td>\n",
       "      <td>False</td>\n",
       "    </tr>\n",
       "    <tr>\n",
       "      <th>178</th>\n",
       "      <td>False</td>\n",
       "      <td>False</td>\n",
       "      <td>False</td>\n",
       "      <td>False</td>\n",
       "      <td>False</td>\n",
       "      <td>False</td>\n",
       "      <td>False</td>\n",
       "      <td>False</td>\n",
       "      <td>False</td>\n",
       "      <td>False</td>\n",
       "      <td>...</td>\n",
       "      <td>False</td>\n",
       "      <td>False</td>\n",
       "      <td>False</td>\n",
       "      <td>False</td>\n",
       "      <td>False</td>\n",
       "      <td>False</td>\n",
       "      <td>False</td>\n",
       "      <td>False</td>\n",
       "      <td>False</td>\n",
       "      <td>False</td>\n",
       "    </tr>\n",
       "    <tr>\n",
       "      <th>179</th>\n",
       "      <td>False</td>\n",
       "      <td>False</td>\n",
       "      <td>False</td>\n",
       "      <td>False</td>\n",
       "      <td>False</td>\n",
       "      <td>False</td>\n",
       "      <td>False</td>\n",
       "      <td>False</td>\n",
       "      <td>False</td>\n",
       "      <td>False</td>\n",
       "      <td>...</td>\n",
       "      <td>False</td>\n",
       "      <td>False</td>\n",
       "      <td>False</td>\n",
       "      <td>False</td>\n",
       "      <td>False</td>\n",
       "      <td>False</td>\n",
       "      <td>False</td>\n",
       "      <td>False</td>\n",
       "      <td>False</td>\n",
       "      <td>False</td>\n",
       "    </tr>\n",
       "  </tbody>\n",
       "</table>\n",
       "<p>180 rows × 4000 columns</p>\n",
       "</div>"
      ],
      "text/plain": [
       "split_idx     0                                                            \\\n",
       "symbol    ADAUSDT BNBUSDT BTCUSDT EOSUSDT ETHUSDT LTCUSDT TRXUSDT VETUSDT   \n",
       "0            True    True    True    True    True    True    True    True   \n",
       "1           False   False   False   False   False   False   False   False   \n",
       "2           False   False   False   False   False   False   False   False   \n",
       "3           False   False   False   False   False   False   False   False   \n",
       "4           False   False   False   False   False   False   False   False   \n",
       "..            ...     ...     ...     ...     ...     ...     ...     ...   \n",
       "175         False   False   False   False   False   False   False   False   \n",
       "176         False   False   False   False   False   False   False   False   \n",
       "177         False   False   False   False   False   False   False   False   \n",
       "178         False   False   False   False   False   False   False   False   \n",
       "179         False   False   False   False   False   False   False   False   \n",
       "\n",
       "split_idx                  ...     399                                  \\\n",
       "symbol    XLMUSDT XRPUSDT  ... ADAUSDT BNBUSDT BTCUSDT EOSUSDT ETHUSDT   \n",
       "0            True    True  ...    True    True    True    True    True   \n",
       "1           False   False  ...   False   False   False   False   False   \n",
       "2           False   False  ...   False   False   False   False   False   \n",
       "3           False   False  ...   False   False   False   False   False   \n",
       "4           False   False  ...   False   False   False   False   False   \n",
       "..            ...     ...  ...     ...     ...     ...     ...     ...   \n",
       "175         False   False  ...   False   False   False   False   False   \n",
       "176         False   False  ...   False   False   False   False   False   \n",
       "177         False   False  ...   False   False   False   False   False   \n",
       "178         False   False  ...   False   False   False   False   False   \n",
       "179         False   False  ...   False   False   False   False   False   \n",
       "\n",
       "split_idx                                          \n",
       "symbol    LTCUSDT TRXUSDT VETUSDT XLMUSDT XRPUSDT  \n",
       "0            True    True    True    True    True  \n",
       "1           False   False   False   False   False  \n",
       "2           False   False   False   False   False  \n",
       "3           False   False   False   False   False  \n",
       "4           False   False   False   False   False  \n",
       "..            ...     ...     ...     ...     ...  \n",
       "175         False   False   False   False   False  \n",
       "176         False   False   False   False   False  \n",
       "177         False   False   False   False   False  \n",
       "178         False   False   False   False   False  \n",
       "179         False   False   False   False   False  \n",
       "\n",
       "[180 rows x 4000 columns]"
      ]
     },
     "execution_count": 11,
     "metadata": {},
     "output_type": "execute_result"
    }
   ],
   "source": [
    "entries = pd.DataFrame.vbt.signals.empty_like(ohlcv_data['Open'])\n",
    "entries.iloc[0, :] = True\n",
    "entries\n"
   ]
  },
  {
   "attachments": {},
   "cell_type": "markdown",
   "metadata": {},
   "source": [
    "https://vectorbt.dev/api/signals/generators/#vectorbt.signals.generators.OHLCSTX\n"
   ]
  },
  {
   "cell_type": "code",
   "execution_count": 12,
   "metadata": {},
   "outputs": [],
   "source": [
    "sl_ohlcstx = vbt.OHLCSTX.run(\n",
    "    entries,\n",
    "    ohlcv_data[\"Open\"],\n",
    "    ohlcv_data[\"High\"],\n",
    "    ohlcv_data[\"Low\"],\n",
    "    ohlcv_data[\"Close\"],\n",
    "    sl_stop=list(stops),\n",
    ")\n",
    "sl_exits = sl_ohlcstx.exits.copy()\n",
    "sl_close = sl_ohlcstx.close.copy()\n",
    "sl_exits.vbt.rename_levels(\n",
    "    {'ohlcstx_sl_stop': 'stop_value'}, strict=False, inplace=True)\n",
    "sl_close.vbt.rename_levels(\n",
    "    {'ohlcstx_sl_stop': 'stop_value'}, strict=False, inplace=True)\n"
   ]
  },
  {
   "cell_type": "code",
   "execution_count": 13,
   "metadata": {},
   "outputs": [],
   "source": [
    "tsl_ohlcstx = vbt.OHLCSTX.run(\n",
    "    entries,\n",
    "    open=ohlcv_data[\"Open\"],\n",
    "    high=ohlcv_data[\"High\"],\n",
    "    low=ohlcv_data[\"Low\"],\n",
    "    close=ohlcv_data[\"Close\"],\n",
    "    sl_stop=list(stops),\n",
    "    sl_trail=True\n",
    ")\n",
    "tsl_exits = tsl_ohlcstx.exits.copy()\n",
    "tsl_close = tsl_ohlcstx.close.copy()\n",
    "tsl_exits.vbt.rename_levels(\n",
    "    {'ohlcstx_sl_stop': 'stop_value'}, strict=False, inplace=True)\n",
    "tsl_close.vbt.rename_levels(\n",
    "    {'ohlcstx_sl_stop': 'stop_value'}, strict=False, inplace=True)\n"
   ]
  },
  {
   "cell_type": "code",
   "execution_count": 14,
   "metadata": {},
   "outputs": [],
   "source": [
    "tp_ohlcstx = vbt.OHLCSTX.run(\n",
    "    entries,\n",
    "    ohlcv_data[\"Open\"],\n",
    "    ohlcv_data[\"High\"],\n",
    "    ohlcv_data[\"Low\"],\n",
    "    ohlcv_data[\"Close\"],\n",
    "    tp_stop=list(stops),\n",
    ")\n",
    "tp_exits = tp_ohlcstx.exits.copy()\n",
    "tp_close = tp_ohlcstx.close.copy()\n",
    "tp_exits.vbt.rename_levels(\n",
    "    {'ohlcstx_tp_stop': 'stop_value'}, strict=False, inplace=True)\n",
    "tp_close.vbt.rename_levels(\n",
    "    {'ohlcstx_tp_stop': 'stop_value'}, strict=False, inplace=True)\n"
   ]
  },
  {
   "cell_type": "code",
   "execution_count": 15,
   "metadata": {},
   "outputs": [
    {
     "data": {
      "text/plain": [
       "SL    0.384333\n",
       "TS    0.585745\n",
       "TP    0.597065\n",
       "Name: avg-num-signals, dtype: float64"
      ]
     },
     "execution_count": 15,
     "metadata": {},
     "output_type": "execute_result"
    }
   ],
   "source": [
    "pd.Series({\n",
    "    'SL': sl_exits.vbt.signals.total().mean(),\n",
    "    'TS': tsl_exits.vbt.signals.total().mean(),\n",
    "    'TP': tp_exits.vbt.signals.total().mean(),\n",
    "}, name='avg-num-signals')\n"
   ]
  },
  {
   "cell_type": "code",
   "execution_count": 16,
   "metadata": {},
   "outputs": [
    {
     "data": {
      "application/vnd.jupyter.widget-view+json": {
       "model_id": "a5045bd2a4d94c6f9d48020fb6ce7b3c",
       "version_major": 2,
       "version_minor": 0
      },
      "text/plain": [
       "FigureWidget({\n",
       "    'data': [{'name': 'Stop Loss',\n",
       "              'showlegend': True,\n",
       "              'type': 'sca…"
      ]
     },
     "metadata": {},
     "output_type": "display_data"
    }
   ],
   "source": [
    "pd.DataFrame({\n",
    "    'Stop Loss': sl_exits.vbt.signals.total().groupby('stop_value').mean(),\n",
    "    'Trailing Stop': tsl_exits.vbt.signals.total().groupby('stop_value').mean(),\n",
    "    'Take Profit': tp_exits.vbt.signals.total().groupby('stop_value').mean()\n",
    "}).vbt.plot(xaxis_title='Stop value', yaxis_title='Avg number of signals')\n"
   ]
  },
  {
   "cell_type": "code",
   "execution_count": 17,
   "metadata": {},
   "outputs": [
    {
     "data": {
      "text/plain": [
       "SL    1.0\n",
       "TS    1.0\n",
       "TP    1.0\n",
       "Name: avg-num-signals, dtype: float64"
      ]
     },
     "execution_count": 17,
     "metadata": {},
     "output_type": "execute_result"
    }
   ],
   "source": [
    "sl_exits.iloc[-1,:] = True\n",
    "tsl_exits.iloc[-1,:] = True\n",
    "tp_exits.iloc[-1,:] = True\n",
    "\n",
    "sl_exits = sl_exits.vbt.signals.first(reset_by=entries, allow_gaps=True)\n",
    "tsl_exits = tsl_exits.vbt.signals.first(reset_by=entries, allow_gaps=True)\n",
    "tp_exits = tp_exits.vbt.signals.first(reset_by=entries, allow_gaps=True)\n",
    "\n",
    "pd.Series({\n",
    "    'SL': sl_exits.vbt.signals.total().mean(),\n",
    "    'TS': tsl_exits.vbt.signals.total().mean(),\n",
    "    'TP': tp_exits.vbt.signals.total().mean(),\n",
    "}, name='avg-num-signals')"
   ]
  },
  {
   "cell_type": "code",
   "execution_count": 18,
   "metadata": {},
   "outputs": [
    {
     "data": {
      "text/plain": [
       "(180, 400000)"
      ]
     },
     "execution_count": 18,
     "metadata": {},
     "output_type": "execute_result"
    }
   ],
   "source": [
    "hold_exits = pd.DataFrame.vbt.signals.empty_like(sl_exits)\n",
    "hold_exits.iloc[-1,:] = True\n",
    "hold_exits.shape"
   ]
  },
  {
   "cell_type": "code",
   "execution_count": 19,
   "metadata": {},
   "outputs": [
    {
     "data": {
      "text/plain": [
       "(180, 400000)"
      ]
     },
     "execution_count": 19,
     "metadata": {},
     "output_type": "execute_result"
    }
   ],
   "source": [
    "rand_exits = hold_exits.vbt.shuffle(seed=seed)\n",
    "rand_exits.shape"
   ]
  },
  {
   "cell_type": "code",
   "execution_count": 20,
   "metadata": {},
   "outputs": [
    {
     "data": {
      "text/plain": [
       "(180, 2000000)"
      ]
     },
     "execution_count": 20,
     "metadata": {},
     "output_type": "execute_result"
    }
   ],
   "source": [
    "exits = pd.DataFrame.vbt.concat(\n",
    "    sl_exits,\n",
    "    tsl_exits,\n",
    "    tp_exits,\n",
    "    rand_exits,\n",
    "    hold_exits,\n",
    "    keys=pd.Index(exit_types, name=\"exit_type\")\n",
    ")\n",
    "exits.shape"
   ]
  },
  {
   "cell_type": "code",
   "execution_count": 21,
   "metadata": {},
   "outputs": [
    {
     "data": {
      "text/plain": [
       "exit_type\n",
       "Holding    179.000000\n",
       "Random      89.432010\n",
       "SL         129.012518\n",
       "TP         101.413803\n",
       "TS         102.999323\n",
       "dtype: float64"
      ]
     },
     "execution_count": 21,
     "metadata": {},
     "output_type": "execute_result"
    }
   ],
   "source": [
    "avg_distance = entries.vbt.signals.between_ranges(other=exits).duration.mean(\n",
    ").groupby(['exit_type', 'stop_value']).mean().unstack(level='exit_type')\n",
    "avg_distance.mean()\n"
   ]
  },
  {
   "cell_type": "code",
   "execution_count": 22,
   "metadata": {},
   "outputs": [
    {
     "data": {
      "text/html": [
       "<div>\n",
       "<style scoped>\n",
       "    .dataframe tbody tr th:only-of-type {\n",
       "        vertical-align: middle;\n",
       "    }\n",
       "\n",
       "    .dataframe tbody tr th {\n",
       "        vertical-align: top;\n",
       "    }\n",
       "\n",
       "    .dataframe thead th {\n",
       "        text-align: right;\n",
       "    }\n",
       "</style>\n",
       "<table border=\"1\" class=\"dataframe\">\n",
       "  <thead>\n",
       "    <tr style=\"text-align: right;\">\n",
       "      <th>exit_type</th>\n",
       "      <th>Holding</th>\n",
       "      <th>Random</th>\n",
       "      <th>SL</th>\n",
       "      <th>TP</th>\n",
       "      <th>TS</th>\n",
       "    </tr>\n",
       "    <tr>\n",
       "      <th>stop_value</th>\n",
       "      <th></th>\n",
       "      <th></th>\n",
       "      <th></th>\n",
       "      <th></th>\n",
       "      <th></th>\n",
       "    </tr>\n",
       "  </thead>\n",
       "  <tbody>\n",
       "    <tr>\n",
       "      <th>0.01</th>\n",
       "      <td>179.0</td>\n",
       "      <td>89.84300</td>\n",
       "      <td>11.62700</td>\n",
       "      <td>13.52225</td>\n",
       "      <td>1.33200</td>\n",
       "    </tr>\n",
       "    <tr>\n",
       "      <th>0.02</th>\n",
       "      <td>179.0</td>\n",
       "      <td>88.62725</td>\n",
       "      <td>16.09500</td>\n",
       "      <td>16.77075</td>\n",
       "      <td>1.48050</td>\n",
       "    </tr>\n",
       "    <tr>\n",
       "      <th>0.03</th>\n",
       "      <td>179.0</td>\n",
       "      <td>88.42225</td>\n",
       "      <td>20.32825</td>\n",
       "      <td>19.67575</td>\n",
       "      <td>1.72600</td>\n",
       "    </tr>\n",
       "    <tr>\n",
       "      <th>0.04</th>\n",
       "      <td>179.0</td>\n",
       "      <td>88.91975</td>\n",
       "      <td>23.98400</td>\n",
       "      <td>23.52100</td>\n",
       "      <td>2.04925</td>\n",
       "    </tr>\n",
       "    <tr>\n",
       "      <th>0.05</th>\n",
       "      <td>179.0</td>\n",
       "      <td>89.42825</td>\n",
       "      <td>27.35275</td>\n",
       "      <td>27.36700</td>\n",
       "      <td>2.53950</td>\n",
       "    </tr>\n",
       "    <tr>\n",
       "      <th>...</th>\n",
       "      <td>...</td>\n",
       "      <td>...</td>\n",
       "      <td>...</td>\n",
       "      <td>...</td>\n",
       "      <td>...</td>\n",
       "    </tr>\n",
       "    <tr>\n",
       "      <th>0.96</th>\n",
       "      <td>179.0</td>\n",
       "      <td>89.25275</td>\n",
       "      <td>179.00000</td>\n",
       "      <td>141.88350</td>\n",
       "      <td>179.00000</td>\n",
       "    </tr>\n",
       "    <tr>\n",
       "      <th>0.97</th>\n",
       "      <td>179.0</td>\n",
       "      <td>89.00275</td>\n",
       "      <td>179.00000</td>\n",
       "      <td>142.31975</td>\n",
       "      <td>179.00000</td>\n",
       "    </tr>\n",
       "    <tr>\n",
       "      <th>0.98</th>\n",
       "      <td>179.0</td>\n",
       "      <td>88.38600</td>\n",
       "      <td>179.00000</td>\n",
       "      <td>142.64500</td>\n",
       "      <td>179.00000</td>\n",
       "    </tr>\n",
       "    <tr>\n",
       "      <th>0.99</th>\n",
       "      <td>179.0</td>\n",
       "      <td>90.08275</td>\n",
       "      <td>179.00000</td>\n",
       "      <td>143.14925</td>\n",
       "      <td>179.00000</td>\n",
       "    </tr>\n",
       "    <tr>\n",
       "      <th>1.00</th>\n",
       "      <td>179.0</td>\n",
       "      <td>89.72375</td>\n",
       "      <td>179.00000</td>\n",
       "      <td>143.59450</td>\n",
       "      <td>179.00000</td>\n",
       "    </tr>\n",
       "  </tbody>\n",
       "</table>\n",
       "<p>100 rows × 5 columns</p>\n",
       "</div>"
      ],
      "text/plain": [
       "exit_type   Holding    Random         SL         TP         TS\n",
       "stop_value                                                    \n",
       "0.01          179.0  89.84300   11.62700   13.52225    1.33200\n",
       "0.02          179.0  88.62725   16.09500   16.77075    1.48050\n",
       "0.03          179.0  88.42225   20.32825   19.67575    1.72600\n",
       "0.04          179.0  88.91975   23.98400   23.52100    2.04925\n",
       "0.05          179.0  89.42825   27.35275   27.36700    2.53950\n",
       "...             ...       ...        ...        ...        ...\n",
       "0.96          179.0  89.25275  179.00000  141.88350  179.00000\n",
       "0.97          179.0  89.00275  179.00000  142.31975  179.00000\n",
       "0.98          179.0  88.38600  179.00000  142.64500  179.00000\n",
       "0.99          179.0  90.08275  179.00000  143.14925  179.00000\n",
       "1.00          179.0  89.72375  179.00000  143.59450  179.00000\n",
       "\n",
       "[100 rows x 5 columns]"
      ]
     },
     "execution_count": 22,
     "metadata": {},
     "output_type": "execute_result"
    }
   ],
   "source": [
    "avg_distance"
   ]
  },
  {
   "cell_type": "code",
   "execution_count": 23,
   "metadata": {},
   "outputs": [
    {
     "data": {
      "application/vnd.jupyter.widget-view+json": {
       "model_id": "98e2ca28e60747d1bc22bb0907cf7331",
       "version_major": 2,
       "version_minor": 0
      },
      "text/plain": [
       "FigureWidget({\n",
       "    'data': [{'name': 'SL',\n",
       "              'showlegend': True,\n",
       "              'type': 'scatter',\n",
       "…"
      ]
     },
     "metadata": {},
     "output_type": "display_data"
    }
   ],
   "source": [
    "avg_distance[exit_types].vbt.plot(\n",
    "    xaxis_title='Stop Value', yaxis_title='Avg distance to entry'\n",
    ")"
   ]
  },
  {
   "cell_type": "code",
   "execution_count": 24,
   "metadata": {},
   "outputs": [],
   "source": [
    "pf = vbt.Portfolio.from_signals(\n",
    "    ohlcv_data['Close'],\n",
    "    entries,\n",
    "    exits\n",
    ")"
   ]
  },
  {
   "cell_type": "code",
   "execution_count": 25,
   "metadata": {},
   "outputs": [
    {
     "data": {
      "text/plain": [
       "3995570"
      ]
     },
     "execution_count": 25,
     "metadata": {},
     "output_type": "execute_result"
    }
   ],
   "source": [
    "len(pf.orders)"
   ]
  },
  {
   "cell_type": "code",
   "execution_count": 26,
   "metadata": {},
   "outputs": [
    {
     "data": {
      "text/plain": [
       "(2000000,)"
      ]
     },
     "execution_count": 26,
     "metadata": {},
     "output_type": "execute_result"
    }
   ],
   "source": [
    "total_return = pf.total_return()\n",
    "total_return.shape"
   ]
  },
  {
   "attachments": {},
   "cell_type": "markdown",
   "metadata": {},
   "source": [
    "# Analyze performance"
   ]
  },
  {
   "cell_type": "code",
   "execution_count": 27,
   "metadata": {},
   "outputs": [
    {
     "data": {
      "text/plain": [
       "count    400000.000000\n",
       "mean          0.605318\n",
       "std           2.129665\n",
       "min          -0.836152\n",
       "50%          -0.029204\n",
       "max          21.849741\n",
       "Name: Holding, dtype: float64"
      ]
     },
     "execution_count": 27,
     "metadata": {},
     "output_type": "execute_result"
    }
   ],
   "source": [
    "total_return_by_type = total_return.unstack(level='exit_type')[exit_types]\n",
    "total_return_by_type['Holding'].describe(percentiles=[])"
   ]
  },
  {
   "cell_type": "code",
   "execution_count": 28,
   "metadata": {},
   "outputs": [
    {
     "data": {
      "application/vnd.jupyter.widget-view+json": {
       "model_id": "42c18bda8c654f8fbe05f4043f300112",
       "version_major": 2,
       "version_minor": 0
      },
      "text/plain": [
       "FigureWidget({\n",
       "    'data': [{'marker': {'color': '#9467bd'},\n",
       "              'name': 'Holding',\n",
       "              'o…"
      ]
     },
     "metadata": {},
     "output_type": "display_data"
    }
   ],
   "source": [
    "total_return_by_type['Holding'].vbt.histplot(\n",
    "    xaxis_title='Total return',\n",
    "    xaxis_tickformat='.2%',\n",
    "    yaxis_title='Count',\n",
    "    trace_kwargs=dict(marker_color=vbt.settings[\"plotting\"][\"color_schema\"][\"purple\"])\n",
    ")"
   ]
  },
  {
   "cell_type": "code",
   "execution_count": 29,
   "metadata": {},
   "outputs": [
    {
     "data": {
      "text/html": [
       "<div>\n",
       "<style scoped>\n",
       "    .dataframe tbody tr th:only-of-type {\n",
       "        vertical-align: middle;\n",
       "    }\n",
       "\n",
       "    .dataframe tbody tr th {\n",
       "        vertical-align: top;\n",
       "    }\n",
       "\n",
       "    .dataframe thead th {\n",
       "        text-align: right;\n",
       "    }\n",
       "</style>\n",
       "<table border=\"1\" class=\"dataframe\">\n",
       "  <thead>\n",
       "    <tr style=\"text-align: right;\">\n",
       "      <th></th>\n",
       "      <th>Mean</th>\n",
       "      <th>Median</th>\n",
       "      <th>Std</th>\n",
       "    </tr>\n",
       "    <tr>\n",
       "      <th>exit_type</th>\n",
       "      <th></th>\n",
       "      <th></th>\n",
       "      <th></th>\n",
       "    </tr>\n",
       "  </thead>\n",
       "  <tbody>\n",
       "    <tr>\n",
       "      <th>SL</th>\n",
       "      <td>0.487120</td>\n",
       "      <td>-0.101755</td>\n",
       "      <td>2.014147</td>\n",
       "    </tr>\n",
       "    <tr>\n",
       "      <th>TS</th>\n",
       "      <td>0.373893</td>\n",
       "      <td>-0.050665</td>\n",
       "      <td>1.703968</td>\n",
       "    </tr>\n",
       "    <tr>\n",
       "      <th>TP</th>\n",
       "      <td>0.126223</td>\n",
       "      <td>0.129385</td>\n",
       "      <td>0.459372</td>\n",
       "    </tr>\n",
       "    <tr>\n",
       "      <th>Random</th>\n",
       "      <td>0.265038</td>\n",
       "      <td>-0.011830</td>\n",
       "      <td>1.272439</td>\n",
       "    </tr>\n",
       "    <tr>\n",
       "      <th>Holding</th>\n",
       "      <td>0.605318</td>\n",
       "      <td>-0.029204</td>\n",
       "      <td>2.129665</td>\n",
       "    </tr>\n",
       "  </tbody>\n",
       "</table>\n",
       "</div>"
      ],
      "text/plain": [
       "               Mean    Median       Std\n",
       "exit_type                              \n",
       "SL         0.487120 -0.101755  2.014147\n",
       "TS         0.373893 -0.050665  1.703968\n",
       "TP         0.126223  0.129385  0.459372\n",
       "Random     0.265038 -0.011830  1.272439\n",
       "Holding    0.605318 -0.029204  2.129665"
      ]
     },
     "execution_count": 29,
     "metadata": {},
     "output_type": "execute_result"
    }
   ],
   "source": [
    "pd.DataFrame({\n",
    "    'Mean' : total_return_by_type.mean(),\n",
    "    'Median' : total_return_by_type.median(),\n",
    "    'Std' : total_return_by_type.std(),\n",
    "})"
   ]
  },
  {
   "cell_type": "code",
   "execution_count": 30,
   "metadata": {},
   "outputs": [
    {
     "data": {
      "application/vnd.jupyter.widget-view+json": {
       "model_id": "d48c743dde8d4c7e91cbd55109cc3195",
       "version_major": 2,
       "version_minor": 0
      },
      "text/plain": [
       "FigureWidget({\n",
       "    'data': [{'boxpoints': False,\n",
       "              'name': 'SL',\n",
       "              'showlegend': True,…"
      ]
     },
     "metadata": {},
     "output_type": "display_data"
    }
   ],
   "source": [
    "total_return_by_type.vbt.boxplot(\n",
    "    trace_kwargs=dict(boxpoints=False),\n",
    "    yaxis_title='Total return',\n",
    "    yaxis_tickformat='.2%'\n",
    ")"
   ]
  },
  {
   "cell_type": "code",
   "execution_count": 31,
   "metadata": {},
   "outputs": [
    {
     "data": {
      "text/plain": [
       "exit_type\n",
       "SL         0.386560\n",
       "TS         0.427233\n",
       "TP         0.631232\n",
       "Random     0.480517\n",
       "Holding    0.480250\n",
       "Name: Win Rate, dtype: float64"
      ]
     },
     "execution_count": 31,
     "metadata": {},
     "output_type": "execute_result"
    }
   ],
   "source": [
    "(total_return_by_type > 0 ).mean().rename('Win Rate')"
   ]
  },
  {
   "cell_type": "code",
   "execution_count": 32,
   "metadata": {},
   "outputs": [
    {
     "data": {
      "text/plain": [
       "exit_type\n",
       "SL         48.711983\n",
       "TS         37.389349\n",
       "TP         12.622302\n",
       "Random     26.353141\n",
       "Holding    60.531753\n",
       "dtype: float64"
      ]
     },
     "execution_count": 32,
     "metadata": {},
     "output_type": "execute_result"
    }
   ],
   "source": [
    "init_cash = vbt.settings.portfolio['init_cash']\n",
    "\n",
    "def get_expectancy(total_return_by_type, level_name):\n",
    "    grouped = total_return_by_type.groupby(level_name, axis=0)\n",
    "    win_rate = grouped.apply(lambda x: (x>0).mean())\n",
    "    avg_win = grouped.apply(lambda x: init_cash * x[x>0].mean()).fillna(0)\n",
    "    avg_loss = grouped.apply(lambda x: init_cash * x[x<0].mean()).fillna(0)\n",
    "    return win_rate * avg_win - (1 - win_rate) * np.abs(avg_loss)\n",
    "\n",
    "expectancy_by_stop = get_expectancy(total_return_by_type, 'stop_value')\n",
    "\n",
    "expectancy_by_stop.mean()"
   ]
  },
  {
   "cell_type": "code",
   "execution_count": 33,
   "metadata": {},
   "outputs": [
    {
     "data": {
      "application/vnd.jupyter.widget-view+json": {
       "model_id": "a912ebbdc5b14d66a9063ea7d1dce02c",
       "version_major": 2,
       "version_minor": 0
      },
      "text/plain": [
       "FigureWidget({\n",
       "    'data': [{'name': 'SL',\n",
       "              'showlegend': True,\n",
       "              'type': 'scatter',\n",
       "…"
      ]
     },
     "metadata": {},
     "output_type": "display_data"
    }
   ],
   "source": [
    "expectancy_by_stop.vbt.plot(\n",
    "    xaxis_title='Stop Value',\n",
    "    yaxis_title='Expectancy'\n",
    ")"
   ]
  },
  {
   "cell_type": "code",
   "execution_count": 34,
   "metadata": {},
   "outputs": [
    {
     "data": {
      "application/vnd.jupyter.widget-view+json": {
       "model_id": "70a27ad3d51a40c78cc92f374148866f",
       "version_major": 2,
       "version_minor": 0
      },
      "text/plain": [
       "FigureWidget({\n",
       "    'data': [{'mode': 'lines',\n",
       "              'name': 'SL',\n",
       "              'showlegend': True,\n",
       "  …"
      ]
     },
     "metadata": {},
     "output_type": "display_data"
    }
   ],
   "source": [
    "return_values = np.sort(total_return_by_type['Holding'].values)\n",
    "idxs = np.ceil(np.linspace(0, len(return_values)-1, 21)).astype(int)\n",
    "bins = return_values[idxs][:-1]\n",
    "\n",
    "def bin_return(total_return_by_type):\n",
    "    classes = pd.cut(total_return_by_type['Holding'], bins=bins, right=True)\n",
    "    new_level = pd.Index(np.array(classes.apply(lambda x: x.right)), name='bin_right')\n",
    "    return total_return_by_type.vbt.stack_index(new_level, axis=0)\n",
    "\n",
    "binned_total_return_by_type = bin_return(total_return_by_type)\n",
    "expectancy_by_bin = get_expectancy(binned_total_return_by_type, 'bin_right')\n",
    "\n",
    "expectancy_by_bin.vbt.plot(\n",
    "    trace_kwargs=dict(mode='lines'),\n",
    "    xaxis_title='Total return of holding',\n",
    "    xaxis_tickformat='.2%',\n",
    "    yaxis_title='Expectancy'\n",
    ")\n"
   ]
  },
  {
   "attachments": {},
   "cell_type": "markdown",
   "metadata": {},
   "source": [
    "# Bonus: Jupyter dashboard\n",
    "\n",
    "pip install kaleido==0.1.0post1"
   ]
  },
  {
   "cell_type": "code",
   "execution_count": 35,
   "metadata": {},
   "outputs": [],
   "source": [
    "range_starts = pd.DatetimeIndex(list(map(lambda x: x[0], ohlcv_indexs)))\n",
    "range_ends = pd.DatetimeIndex(list(map(lambda x: x[-1], ohlcv_indexs)))\n",
    "\n",
    "symbol_lvl = total_return_by_type.index.get_level_values('symbol')\n",
    "split_lvl = total_return_by_type.index.get_level_values('split_idx')\n",
    "range_start_lvl = range_starts[split_lvl]\n",
    "range_end_lvl = range_ends[split_lvl]\n",
    "\n",
    "asset_multi_select = ipywidgets.SelectMultiple(\n",
    "    options=symbols,\n",
    "    value=symbols,\n",
    "    rows=len(symbols),\n",
    "    description='Symbols'\n",
    ")\n",
    "dates = np.unique(ohlcv['Open'].index)\n",
    "date_range_slider = ipywidgets.SelectionRangeSlider(\n",
    "    options=dates,\n",
    "    index=(0, len(dates)-1),\n",
    "    orientation=\"horizontal\",\n",
    "    readout=False,\n",
    "    continuous_update=False\n",
    ")\n",
    "range_start_label = ipywidgets.Label()\n",
    "range_end_label = ipywidgets.Label()\n",
    "metric_dropdown = ipywidgets.Dropdown(\n",
    "    options=[\"Mean\", \"Median\", \"Win Rate\", \"Expectancy\"],\n",
    "    value=\"Expectancy\"\n",
    ")\n",
    "\n",
    "stop_scatter = vbt.plotting.Scatter(\n",
    "    trace_names=exit_types,\n",
    "    x_labels=stops, \n",
    "    xaxis_title='Stop value', \n",
    "    yaxis_title='Expectancy'\n",
    ")\n",
    "stop_scatter_img = ipywidgets.Image(\n",
    "    format='png',\n",
    "    width=stop_scatter.fig.layout.width,\n",
    "    height=stop_scatter.fig.layout.height\n",
    ")\n",
    "bin_scatter = vbt.plotting.Scatter(\n",
    "    trace_names=exit_types,\n",
    "    x_labels=expectancy_by_bin.index, \n",
    "    trace_kwargs=dict(mode='lines'),\n",
    "    xaxis_title='Total return of holding',\n",
    "    xaxis_tickformat='%',\n",
    "    yaxis_title='Expectancy'\n",
    ")\n",
    "bin_scatter_img = ipywidgets.Image(\n",
    "    format='png',\n",
    "    width=bin_scatter.fig.layout.width,\n",
    "    height=bin_scatter.fig.layout.height\n",
    ")"
   ]
  },
  {
   "cell_type": "code",
   "execution_count": 36,
   "metadata": {},
   "outputs": [],
   "source": [
    "def update_scatter(*args, **kwargs):\n",
    "    _symbols = asset_multi_select.value\n",
    "    _from = date_range_slider.value[0]\n",
    "    _to = date_range_slider.value[1]\n",
    "    _metric_name = metric_dropdown.value\n",
    "    \n",
    "    range_mask = (range_start_lvl >= _from) & (range_end_lvl <= _to)\n",
    "    asset_mask = symbol_lvl.isin(_symbols)\n",
    "    filt = total_return_by_type[range_mask & asset_mask]\n",
    "    \n",
    "    filt_binned = bin_return(filt)\n",
    "    if _metric_name == \"Mean\":\n",
    "        filt_metric = filt.groupby(\"stop_value\").mean()\n",
    "        filt_bin_metric = filt_binned.groupby(\"bin_right\").mean()\n",
    "    elif _metric_name == \"Median\":\n",
    "        filt_metric = filt.groupby(\"stop_value\").median()\n",
    "        filt_bin_metric = filt_binned.groupby(\"bin_right\").median()\n",
    "    elif _metric_name == \"Win Rate\":\n",
    "        filt_metric = (filt > 0).groupby(\"stop_value\").mean()\n",
    "        filt_bin_metric = (filt_binned > 0).groupby(\"bin_right\").mean()\n",
    "    elif _metric_name == \"Expectancy\":\n",
    "        filt_metric = get_expectancy(filt, \"stop_value\")\n",
    "        filt_bin_metric = get_expectancy(filt_binned, \"bin_right\")\n",
    "        \n",
    "    stop_scatter.fig.update_layout(yaxis_title=_metric_name)\n",
    "    stop_scatter.update(filt_metric)\n",
    "    stop_scatter_img.value = stop_scatter.fig.to_image(format=\"png\")\n",
    "    \n",
    "    bin_scatter.fig.update_layout(yaxis_title=_metric_name)\n",
    "    bin_scatter.update(filt_bin_metric)\n",
    "    bin_scatter_img.value = bin_scatter.fig.to_image(format=\"png\")\n",
    "    \n",
    "    range_start_label.value = np.datetime_as_string(_from.to_datetime64(), unit=\"D\")\n",
    "    range_end_label.value = np.datetime_as_string(_to.to_datetime64(), unit=\"D\")\n",
    "    \n",
    "asset_multi_select.observe(update_scatter, names=\"value\")\n",
    "date_range_slider.observe(update_scatter, names=\"value\")\n",
    "metric_dropdown.observe(update_scatter, names=\"value\")\n",
    "update_scatter()"
   ]
  },
  {
   "cell_type": "code",
   "execution_count": 37,
   "metadata": {},
   "outputs": [
    {
     "data": {
      "application/vnd.jupyter.widget-view+json": {
       "model_id": "c022005326564fcb8101406dd0e1bd99",
       "version_major": 2,
       "version_minor": 0
      },
      "text/plain": [
       "VBox(children=(SelectMultiple(description='Symbols', index=(0, 1, 2, 3, 4, 5, 6, 7, 8, 9), options=('ADAUSDT',…"
      ]
     },
     "metadata": {},
     "output_type": "display_data"
    }
   ],
   "source": [
    "dashboard = ipywidgets.VBox([\n",
    "    asset_multi_select,\n",
    "    ipywidgets.HBox([\n",
    "        range_start_label,\n",
    "        date_range_slider,\n",
    "        range_end_label\n",
    "    ]),\n",
    "    metric_dropdown,\n",
    "    stop_scatter_img,\n",
    "    bin_scatter_img\n",
    "])\n",
    "dashboard"
   ]
  }
 ],
 "metadata": {
  "kernelspec": {
   "display_name": "venv",
   "language": "python",
   "name": "python3"
  },
  "language_info": {
   "codemirror_mode": {
    "name": "ipython",
    "version": 3
   },
   "file_extension": ".py",
   "mimetype": "text/x-python",
   "name": "python",
   "nbconvert_exporter": "python",
   "pygments_lexer": "ipython3",
   "version": "3.9.12"
  },
  "orig_nbformat": 4,
  "vscode": {
   "interpreter": {
    "hash": "c1cb9ec592256766dc7b68a58495057da66885c22d5e54660919d56802f4eb2e"
   }
  }
 },
 "nbformat": 4,
 "nbformat_minor": 2
}
